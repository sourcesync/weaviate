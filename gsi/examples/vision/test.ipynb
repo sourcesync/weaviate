{
 "cells": [
  {
   "cell_type": "code",
   "execution_count": 1,
   "metadata": {},
   "outputs": [],
   "source": [
    "import weaviate\n",
    "import pandas as pd\n",
    "df = pd.read_csv('/mnt/nas1/fashion/clean.csv')\n",
    "DATADIR = '/mnt/nas1/fashion/base64_images/'\n",
    "client = weaviate.Client('http://localhost:8080')\n",
    "\n",
    "def idToPath(id):\n",
    "    return DATADIR+str(id)+\".jpg.b64\""
   ]
  },
  {
   "cell_type": "code",
   "execution_count": 2,
   "metadata": {},
   "outputs": [],
   "source": [
    "class_obj = {\n",
    "    \"class\": \"Fashion\",\n",
    "    \"description\": \"images of different fashion items\",\n",
    "    \"moduleConfig\": {\n",
    "        \"img2vec-neural\": {\n",
    "            \"imageFields\": [\"image\"]\n",
    "        }\n",
    "    },\n",
    "    \"properties\": [\n",
    "        {\n",
    "            \"dataType\": [\"blob\"],\n",
    "            \"description\": \"colored jpg image of fashion article\",\n",
    "            \"name\": \"image\"\n",
    "        }, {\n",
    "            \"dataType\": [\"string\"],\n",
    "            \"description\": \"attributed gender for clothing\",\n",
    "            \"name\": \"gender\"\n",
    "        }, {\n",
    "            \"dataType\": [\"string\"], \n",
    "            \"description\": \"the primary category for clothing\",\n",
    "            \"name\": \"masterCategory\"\n",
    "        }, {\n",
    "            \"dataType\": [\"string\"],\n",
    "            \"description\": \"more in-depth category\",\n",
    "            \"name\": \"subCategory\"\n",
    "        }, {\n",
    "            \"dataType\": [\"string\"],\n",
    "            \"description\": \"type of clothing article\",\n",
    "            \"name\": \"articleType\"\n",
    "        }, {\n",
    "            \"dataType\": [\"string\"],\n",
    "            \"description\": \"the main color in image\",\n",
    "            \"name\": \"baseColour\"\n",
    "        }, {\n",
    "            \"dataType\": [\"string\"],\n",
    "            \"description\": \"the season of the style??\",\n",
    "            \"name\": \"season\"\n",
    "        }, {\n",
    "            \"dataType\": [\"int\"], \n",
    "            \"description\": \"the year the clothing was released\",\n",
    "            \"name\": \"year\"\n",
    "        }, {\n",
    "            \"dataType\": [\"string\"], \n",
    "            \"description\": \"the full name of the article\",\n",
    "            \"name\": \"productDisplayName\"\n",
    "        }\n",
    "    ],\n",
    "    \"vectorIndexType\": \"hnsw\",\n",
    "    \"vectorizer\": \"img2vec-neural\"\n",
    "}"
   ]
  },
  {
   "cell_type": "code",
   "execution_count": 3,
   "metadata": {},
   "outputs": [
    {
     "ename": "UnexpectedStatusCodeException",
     "evalue": "Create class! Unexpected status code: 422, with response body: {'error': [{'message': 'vectorizer: no module with name \"img2vec-neural\" present'}]}.",
     "output_type": "error",
     "traceback": [
      "\u001b[0;31m---------------------------------------------------------------------------\u001b[0m",
      "\u001b[0;31mUnexpectedStatusCodeException\u001b[0m             Traceback (most recent call last)",
      "Cell \u001b[0;32mIn[3], line 1\u001b[0m\n\u001b[0;32m----> 1\u001b[0m client\u001b[39m.\u001b[39;49mschema\u001b[39m.\u001b[39;49mcreate_class(class_obj)\n",
      "File \u001b[0;32m~/mambaforge/envs/weav/lib/python3.8/site-packages/weaviate/schema/crud_schema.py:166\u001b[0m, in \u001b[0;36mSchema.create_class\u001b[0;34m(self, schema_class)\u001b[0m\n\u001b[1;32m    164\u001b[0m \u001b[39m# validate the class before loading\u001b[39;00m\n\u001b[1;32m    165\u001b[0m check_class(loaded_schema_class)\n\u001b[0;32m--> 166\u001b[0m \u001b[39mself\u001b[39;49m\u001b[39m.\u001b[39;49m_create_class_with_primitives(loaded_schema_class)\n\u001b[1;32m    167\u001b[0m \u001b[39mself\u001b[39m\u001b[39m.\u001b[39m_create_complex_properties_from_class(loaded_schema_class)\n",
      "File \u001b[0;32m~/mambaforge/envs/weav/lib/python3.8/site-packages/weaviate/schema/crud_schema.py:693\u001b[0m, in \u001b[0;36mSchema._create_class_with_primitives\u001b[0;34m(self, weaviate_class)\u001b[0m\n\u001b[1;32m    691\u001b[0m     \u001b[39mraise\u001b[39;00m RequestsConnectionError(\u001b[39m\"\u001b[39m\u001b[39mClass may not have been created properly.\u001b[39m\u001b[39m\"\u001b[39m) \u001b[39mfrom\u001b[39;00m \u001b[39mconn_err\u001b[39;00m\n\u001b[1;32m    692\u001b[0m \u001b[39mif\u001b[39;00m response\u001b[39m.\u001b[39mstatus_code \u001b[39m!=\u001b[39m \u001b[39m200\u001b[39m:\n\u001b[0;32m--> 693\u001b[0m     \u001b[39mraise\u001b[39;00m UnexpectedStatusCodeException(\u001b[39m\"\u001b[39m\u001b[39mCreate class\u001b[39m\u001b[39m\"\u001b[39m, response)\n",
      "\u001b[0;31mUnexpectedStatusCodeException\u001b[0m: Create class! Unexpected status code: 422, with response body: {'error': [{'message': 'vectorizer: no module with name \"img2vec-neural\" present'}]}."
     ]
    }
   ],
   "source": [
    "client.schema.create_class(class_obj)"
   ]
  },
  {
   "cell_type": "code",
   "execution_count": null,
   "metadata": {},
   "outputs": [],
   "source": []
  }
 ],
 "metadata": {
  "kernelspec": {
   "display_name": "weav",
   "language": "python",
   "name": "python3"
  },
  "language_info": {
   "codemirror_mode": {
    "name": "ipython",
    "version": 3
   },
   "file_extension": ".py",
   "mimetype": "text/x-python",
   "name": "python",
   "nbconvert_exporter": "python",
   "pygments_lexer": "ipython3",
   "version": "3.8.16"
  },
  "orig_nbformat": 4
 },
 "nbformat": 4,
 "nbformat_minor": 2
}
