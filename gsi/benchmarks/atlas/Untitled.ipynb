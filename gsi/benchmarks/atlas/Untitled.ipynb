{
 "cells": [
  {
   "cell_type": "code",
   "execution_count": 1,
   "id": "793f52c5-f1b9-4801-9979-21a486c52722",
   "metadata": {},
   "outputs": [],
   "source": [
    "import numpy as np"
   ]
  },
  {
   "cell_type": "code",
   "execution_count": 2,
   "id": "9c67ba6b-15f5-46b1-9842-b118a1b11212",
   "metadata": {},
   "outputs": [],
   "source": [
    "one = np.load(\"/Users/sabrinaho/Desktop/1M/sv7-apu12_1M_indices_0.npy\", allow_pickle=True)\n",
    "idx = np.load(\"/private/nas1/atlas_data/benchmarking/sets_nor/query_ind.npy\", allow_pickle=True)\n",
    "gt = np.load(\"/private/nas1/atlas_data/benchmarking/sets_nor/atlas_base_1M_gt_cos.npy\", allow_pickle=True)"
   ]
  },
  {
   "cell_type": "code",
   "execution_count": 8,
   "id": "f79f3266-5c3f-478f-a89c-a032d36ca0d2",
   "metadata": {},
   "outputs": [
    {
     "name": "stdout",
     "output_type": "stream",
     "text": [
      "(1000, 10)\n",
      "[689520 870120 472792 782576 720376 988816 972416 599680  98880 927360]\n"
     ]
    }
   ],
   "source": [
    "x = one[0]\n",
    "x\n",
    "print(one.shape)\n",
    "print(x)"
   ]
  },
  {
   "cell_type": "code",
   "execution_count": 9,
   "id": "7ae112d6-6194-488c-b885-9a1fc7175123",
   "metadata": {},
   "outputs": [
    {
     "name": "stdout",
     "output_type": "stream",
     "text": [
      "(1000, 100)\n",
      "[883008  86190 654334 942904 700163 343851 152120 289146 553220 581198]\n"
     ]
    }
   ],
   "source": [
    "print(gt.shape)\n",
    "print(gt[0][:10])"
   ]
  },
  {
   "cell_type": "code",
   "execution_count": 3,
   "id": "3eb52b76-4884-466a-9d1d-aab785c25a7a",
   "metadata": {},
   "outputs": [
    {
     "data": {
      "text/plain": [
       "0.0"
      ]
     },
     "execution_count": 3,
     "metadata": {},
     "output_type": "execute_result"
    }
   ],
   "source": [
    "lst = []\n",
    "for i in range(one.shape[0]):\n",
    "    query = one[i]\n",
    "    groundtruth = gt[i]\n",
    "    first10_gt = groundtruth[:10]\n",
    "    \n",
    "    intersect = np.intersect1d(query, first10_gt).size # sum of intersection\n",
    "    recall = intersect / 10\n",
    "    lst.append(recall)\n",
    "\n",
    "sum(lst) / len(lst)"
   ]
  },
  {
   "cell_type": "code",
   "execution_count": 45,
   "id": "38293852-8e3e-4abc-9c18-2a35dbdc6edf",
   "metadata": {},
   "outputs": [
    {
     "data": {
      "text/plain": [
       "1000"
      ]
     },
     "execution_count": 45,
     "metadata": {},
     "output_type": "execute_result"
    }
   ],
   "source": [
    "len(lst)"
   ]
  },
  {
   "cell_type": "code",
   "execution_count": 16,
   "id": "8c145e33-bbad-4153-b31c-731f155b8744",
   "metadata": {},
   "outputs": [],
   "source": [
    "def compute_recall(a, b):\n",
    "    '''Computes the recall metric on query results.'''\n",
    "\n",
    "    nq, rank = a.shape\n",
    "    intersect = [ numpy.intersect1d(a[i, :rank], b[i, :rank]).size for i in range(nq) ]\n",
    "    ninter = sum( intersect )\n",
    "    return ninter / a.size, intersect"
   ]
  },
  {
   "cell_type": "code",
   "execution_count": null,
   "id": "a6aefcc5-800a-48c6-8f95-73e541dfd6ea",
   "metadata": {},
   "outputs": [],
   "source": []
  },
  {
   "cell_type": "code",
   "execution_count": 28,
   "id": "927fd96a-2144-4097-a901-db0825cdc03a",
   "metadata": {},
   "outputs": [],
   "source": [
    "# compute distance"
   ]
  },
  {
   "cell_type": "code",
   "execution_count": null,
   "id": "94303a8c-e4fe-4076-8561-5dc52329e9fa",
   "metadata": {},
   "outputs": [],
   "source": [
    "# load vector\n",
    "base_vec = np.load(\"/private/nas1/atlas_data/benchmarking/sets_nor/base_atlas.npy\", allow_pickle=True)"
   ]
  },
  {
   "cell_type": "code",
   "execution_count": 43,
   "id": "5c010592-f996-4ae3-a7c6-571add02b7d7",
   "metadata": {},
   "outputs": [],
   "source": [
    "# vec from search\n",
    "\n",
    "# vec from gt\n",
    "dist = []\n",
    "for i in range(one.shape[0]):\n",
    "    query = one[i] # list of index: len of 10 \n",
    "    groundtruth = gt[i] \n",
    "    first10_gt = groundtruth[:10] # first 10 gt of i\n",
    "    \n",
    "    # get vec:\n",
    "    for q in query:\n",
    "        for g in first10_gt:\n",
    "            search = vec[q]\n",
    "            gt_vec = vec[g]\n",
    "            \n",
    "    d = np.linalg.norm(search - gt_vec)\n",
    "    dist.append(d)"
   ]
  },
  {
   "cell_type": "code",
   "execution_count": 46,
   "id": "8f81d8f7-6ef4-4b89-b0a6-4d813df28a39",
   "metadata": {},
   "outputs": [
    {
     "data": {
      "text/plain": [
       "[1.9726107,\n",
       " 2.3183422,\n",
       " 2.654566,\n",
       " 2.3883727,\n",
       " 2.4355564,\n",
       " 2.294287,\n",
       " 2.1253524,\n",
       " 2.6462388,\n",
       " 2.430765,\n",
       " 2.5440001]"
      ]
     },
     "execution_count": 46,
     "metadata": {},
     "output_type": "execute_result"
    }
   ],
   "source": [
    "dist[:10]"
   ]
  },
  {
   "cell_type": "code",
   "execution_count": null,
   "id": "9817d719-eb1a-433c-aa3c-7315292a54c8",
   "metadata": {},
   "outputs": [],
   "source": []
  },
  {
   "cell_type": "code",
   "execution_count": 48,
   "id": "db42f4ad-cbde-4265-80bc-ff5ae703efb2",
   "metadata": {},
   "outputs": [],
   "source": [
    "# 1 query \n",
    "first_query = one[0]\n",
    "first_groundtruth = gt[0] \n",
    "first10_gt = first_groundtruth[:10]\n",
    "\n",
    "dist = []\n",
    "\n",
    "for i in range(len(first_query)):\n",
    "    search = vec[first_query[i]]\n",
    "    gt_vec = vec[first10_gt[i]]\n",
    "            \n",
    "    d = np.linalg.norm(search - gt_vec)\n",
    "    dist.append(d)"
   ]
  },
  {
   "cell_type": "code",
   "execution_count": 50,
   "id": "b18ed757-cfc9-4306-9b77-5edafc432161",
   "metadata": {},
   "outputs": [
    {
     "data": {
      "text/plain": [
       "[2.6747005,\n",
       " 2.7044208,\n",
       " 2.5752642,\n",
       " 1.9080448,\n",
       " 2.5192277,\n",
       " 2.1463184,\n",
       " 2.0514338,\n",
       " 2.2502487,\n",
       " 2.7156682,\n",
       " 1.9726107]"
      ]
     },
     "execution_count": 50,
     "metadata": {},
     "output_type": "execute_result"
    }
   ],
   "source": [
    "dist"
   ]
  },
  {
   "cell_type": "code",
   "execution_count": 5,
   "id": "ddc04221-5cc0-4d6d-8e84-a63d0ee565b3",
   "metadata": {},
   "outputs": [],
   "source": [
    "query_vectors = np.load(\"/private/nas1/atlas_data/benchmarking/sets_nor/query_vec.npy\", allow_pickle=True)"
   ]
  },
  {
   "cell_type": "code",
   "execution_count": 53,
   "id": "a2a6796b-ccee-4347-a98a-21a02ec8ced9",
   "metadata": {},
   "outputs": [],
   "source": [
    "query_vec = query_vectors[0]\n",
    "euclidean_hnsw_lst, euclidean_gt_lst = [], []\n",
    "cosine_similarity_hnsw_lst, cosine_similarity_gt_lst = [], []\n",
    "cosine_dist_hnsw_lst, cosine_dist_gt_lst = [], []\n",
    "hamming_hnsw_lst, hamming_gt_lst = [], []\n",
    "\n",
    "for i in range(10):\n",
    "    hnsw_vec = base_vec[one[0][i]]\n",
    "    gt_vec = base_vec[cos_gt_1m[0][i]]\n",
    "    \n",
    "    # euclidean\n",
    "    euclidean_hnsw = np.linalg.norm( query_vec - hnsw_vec)\n",
    "    euclidean_hnsw_lst.append(euclidean_hnsw)\n",
    "    \n",
    "    euclidean_gt = np.linalg.norm( query_vec - gt_vec)\n",
    "    euclidean_gt_lst.append(euclidean_gt)\n",
    "    \n",
    "    # cosine similarity\n",
    "    cosine_similarity_hnsw = np.dot(hnsw_vec, query_vec) / (np.linalg.norm(query_vec) * np.linalg.norm(hnsw_vec))\n",
    "    cosine_similarity_hnsw_lst.append(cosine_similarity_hnsw)\n",
    "    \n",
    "    cosine_similarity_gt =  np.dot(gt_vec, query_vec) / (np.linalg.norm(query_vec) * np.linalg.norm(gt_vec))\n",
    "    cosine_similarity_gt_lst.append(cosine_similarity_gt)\n",
    "    \n",
    "    # cosine distance\n",
    "    cosine_dist_hnsw = 1 - cosine_similarity_hnsw\n",
    "    cosine_dist_hnsw_lst.append(cosine_dist_hnsw)\n",
    "    \n",
    "    cosine_dist_gt = 1 - cosine_similarity_gt\n",
    "    cosine_dist_gt_lst.append(cosine_dist_gt)\n",
    "    \n",
    "    # hamming\n",
    "    hamming_hnsw = hamming(query_vec, hnsw_vec)\n",
    "    hamming_hnsw_lst.append(hamming_hnsw)\n",
    "    \n",
    "    hamming_gt = hamming(query_vec, gt_vec)\n",
    "    hamming_gt_lst.append(hamming_gt)\n",
    "    \n",
    "    "
   ]
  },
  {
   "cell_type": "code",
   "execution_count": 54,
   "id": "a399aae2-abc8-4aae-94c8-dc1d46665d8d",
   "metadata": {},
   "outputs": [
    {
     "name": "stdout",
     "output_type": "stream",
     "text": [
      "euclidean hnsw:  [2.7090917, 2.8735135, 2.673499, 2.1770692, 2.601587, 2.3380842, 2.272154, 2.5312405, 2.9287205, 2.0416474]\n",
      "euclidean gt:  [1.9635098, 1.7345554, 2.2178214, 1.8648322, 2.2634428, 1.8447993, 1.8905646, 2.3163593, 2.2228417, 2.127827]\n",
      "\n",
      "\n",
      "cosine similarity hnsw:  [0.20112963, 0.1286543, 0.18706103, 0.28442395, 0.24833621, 0.26763764, 0.25204802, 0.15288328, 0.14368783, 0.38149533]\n",
      "cosine similarity gt:  [0.49809816, 0.54880923, 0.4458041, 0.4952413, 0.42621884, 0.5008201, 0.4890168, 0.40828013, 0.41976428, 0.43088567]\n",
      "\n",
      "\n",
      "cosine distance hnsw:  [0.7988703697919846, 0.8713456988334656, 0.8129389733076096, 0.7155760526657104, 0.7516637891530991, 0.7323623597621918, 0.7479519844055176, 0.8471167236566544, 0.856312170624733, 0.618504673242569]\n",
      "cosine distance gt:  [0.5019018352031708, 0.4511907696723938, 0.554195910692215, 0.5047586858272552, 0.5737811625003815, 0.4991798996925354, 0.5109831988811493, 0.5917198657989502, 0.5802357196807861, 0.5691143274307251]\n",
      "\n",
      "\n",
      "hamming hnsw:  [1.0, 1.0, 1.0, 1.0, 1.0, 1.0, 1.0, 1.0, 1.0, 0.9986979166666666]\n",
      "hamming gt:  [1.0, 1.0, 1.0, 1.0, 1.0, 1.0, 1.0, 1.0, 0.9986979166666666, 1.0]\n"
     ]
    }
   ],
   "source": [
    "print(\"euclidean hnsw: \", euclidean_hnsw_lst)\n",
    "print(\"euclidean gt: \", euclidean_gt_lst)\n",
    "print(\"\\n\")\n",
    "print(\"cosine similarity hnsw: \", cosine_similarity_hnsw_lst)\n",
    "print(\"cosine similarity gt: \", cosine_similarity_gt_lst)\n",
    "print(\"\\n\")\n",
    "print(\"cosine distance hnsw: \", cosine_dist_hnsw_lst)\n",
    "print(\"cosine distance gt: \", cosine_dist_gt_lst)\n",
    "print(\"\\n\")\n",
    "print(\"hamming hnsw: \", hamming_hnsw_lst)\n",
    "print(\"hamming gt: \", hamming_gt_lst)\n"
   ]
  },
  {
   "cell_type": "code",
   "execution_count": 34,
   "id": "092526ef-ca93-47d1-a330-e627d1044601",
   "metadata": {},
   "outputs": [
    {
     "data": {
      "text/plain": [
       "3.7416573867739413"
      ]
     },
     "execution_count": 34,
     "metadata": {},
     "output_type": "execute_result"
    }
   ],
   "source": [
    "v = np.array([1, 2, 3])\n",
    "np.linalg.norm(v)"
   ]
  },
  {
   "cell_type": "code",
   "execution_count": 29,
   "id": "60b1b5a1-ad05-4725-8488-4c3a1dbbf8e0",
   "metadata": {},
   "outputs": [
    {
     "data": {
      "text/plain": [
       "(32137737, 768)"
      ]
     },
     "execution_count": 29,
     "metadata": {},
     "output_type": "execute_result"
    }
   ],
   "source": [
    "base_vec.shape"
   ]
  },
  {
   "cell_type": "code",
   "execution_count": 41,
   "id": "661632a8-fbea-460c-a84a-6d6ae6bb521e",
   "metadata": {},
   "outputs": [
    {
     "data": {
      "text/plain": [
       "(768,)"
      ]
     },
     "execution_count": 41,
     "metadata": {},
     "output_type": "execute_result"
    }
   ],
   "source": [
    "v = base_vec[0]\n",
    "v.shape"
   ]
  },
  {
   "cell_type": "code",
   "execution_count": 39,
   "id": "e15e4d63-887d-4ddb-8a4b-3502f62c69ba",
   "metadata": {},
   "outputs": [
    {
     "ename": "IndentationError",
     "evalue": "expected an indented block (1302659382.py, line 2)",
     "output_type": "error",
     "traceback": [
      "\u001b[0;36m  File \u001b[0;32m\"/tmp/ipykernel_692566/1302659382.py\"\u001b[0;36m, line \u001b[0;32m2\u001b[0m\n\u001b[0;31m    #print(np.linalg.norm(i))\u001b[0m\n\u001b[0m                             ^\u001b[0m\n\u001b[0;31mIndentationError\u001b[0m\u001b[0;31m:\u001b[0m expected an indented block\n"
     ]
    }
   ],
   "source": [
    "for i in query_vectors:\n",
    "    #print(np.linalg.norm(i))\n"
   ]
  },
  {
   "cell_type": "code",
   "execution_count": 37,
   "id": "50ae9090-4e4f-46dd-832a-9c23e0d301eb",
   "metadata": {},
   "outputs": [
    {
     "data": {
      "text/plain": [
       "1.0"
      ]
     },
     "execution_count": 37,
     "metadata": {},
     "output_type": "execute_result"
    }
   ],
   "source": [
    "np.linalg.norm( v / np.linalg.norm(v))"
   ]
  },
  {
   "cell_type": "code",
   "execution_count": 40,
   "id": "aba319b0-c36c-4c72-b81e-67ea3f747cf1",
   "metadata": {},
   "outputs": [
    {
     "data": {
      "text/plain": [
       "(768,)"
      ]
     },
     "execution_count": 40,
     "metadata": {},
     "output_type": "execute_result"
    }
   ],
   "source": [
    "( v / np.linalg.norm(v)).shape"
   ]
  },
  {
   "cell_type": "code",
   "execution_count": 5,
   "id": "d3a4ecef-022d-4d72-8b15-e15b447d73a4",
   "metadata": {},
   "outputs": [],
   "source": [
    "# deep1b test"
   ]
  },
  {
   "cell_type": "code",
   "execution_count": 12,
   "id": "22871313-ccd6-49c5-a366-43ccc36d83ba",
   "metadata": {},
   "outputs": [],
   "source": [
    "deep = np.load(\"/home/sho/benchmarking/deep1b/1M-2/sv7-apu12_1M_indices_0.npy\", allow_pickle=True)"
   ]
  },
  {
   "cell_type": "code",
   "execution_count": 13,
   "id": "765d89cd-331d-40ca-931b-25a6bbb29466",
   "metadata": {},
   "outputs": [],
   "source": [
    "deep_gt = np.load(\"/mnt/nas1/fvs_benchmark_datasets/deep-1M-gt-1000.npy\", allow_pickle=True)"
   ]
  },
  {
   "cell_type": "code",
   "execution_count": 14,
   "id": "f86bee62-8dd6-4bc1-8eb2-9c49a9fc49c8",
   "metadata": {},
   "outputs": [
    {
     "data": {
      "text/plain": [
       "(1000, 10)"
      ]
     },
     "execution_count": 14,
     "metadata": {},
     "output_type": "execute_result"
    }
   ],
   "source": [
    "deep.shape"
   ]
  },
  {
   "cell_type": "code",
   "execution_count": 15,
   "id": "8d282a0f-e973-4248-bfc5-42b2fb39743e",
   "metadata": {},
   "outputs": [
    {
     "data": {
      "text/plain": [
       "(1000, 100)"
      ]
     },
     "execution_count": 15,
     "metadata": {},
     "output_type": "execute_result"
    }
   ],
   "source": [
    "deep_gt.shape"
   ]
  },
  {
   "cell_type": "code",
   "execution_count": 16,
   "id": "fd7c0c4a-4ed8-4132-a4ef-1e0f9dacdd95",
   "metadata": {},
   "outputs": [
    {
     "data": {
      "text/plain": [
       "0.9882999999999987"
      ]
     },
     "execution_count": 16,
     "metadata": {},
     "output_type": "execute_result"
    }
   ],
   "source": [
    "lst = []\n",
    "for i in range(deep.shape[0]):\n",
    "    query = deep[i]\n",
    "    groundtruth = deep_gt[i]\n",
    "    first10_gt = groundtruth[:10]\n",
    "    \n",
    "    intersect = np.intersect1d(query, first10_gt).size # sum of intersection\n",
    "    recall = intersect / 10\n",
    "    lst.append(recall)\n",
    "\n",
    "sum(lst) / len(lst)"
   ]
  },
  {
   "cell_type": "code",
   "execution_count": null,
   "id": "89449c73-f821-482d-8ef5-3641beef1249",
   "metadata": {},
   "outputs": [],
   "source": []
  },
  {
   "cell_type": "code",
   "execution_count": 42,
   "id": "5d6e05dd-1a1a-4e97-98aa-7c4d056ad381",
   "metadata": {},
   "outputs": [],
   "source": [
    "# cos gt"
   ]
  },
  {
   "cell_type": "code",
   "execution_count": 46,
   "id": "f9f25344-2cb1-49f0-b442-f7a75b77bb4f",
   "metadata": {},
   "outputs": [],
   "source": [
    "cos_gt_1m = np.load(\"/mnt/nas1/atlas_data/benchmarking/sets_nor/atlas_base_1M_gt_cos.npy\", allow_pickle=True)\n",
    "cos_gt_2m = np.load(\"/mnt/nas1/atlas_data/benchmarking/sets_nor/atlas_base_2M_gt_cos.npy\", allow_pickle=True)\n",
    "cos_gt_5m = np.load(\"/mnt/nas1/atlas_data/benchmarking/sets_nor/atlas_base_5M_gt_cos.npy\", allow_pickle=True)\n",
    "cos_gt_10m = np.load(\"/mnt/nas1/atlas_data/benchmarking/sets_nor/atlas_base_10M_gt_cos.npy\", allow_pickle=True)\n",
    "cos_gt_20m = np.load(\"/mnt/nas1/atlas_data/benchmarking/sets_nor/atlas_base_20M_gt_cos.npy\", allow_pickle=True)\n",
    "cos_gt_30m = np.load(\"/mnt/nas1/atlas_data/benchmarking/sets_nor/atlas_base_30M_gt_cos.npy\", allow_pickle=True)"
   ]
  },
  {
   "cell_type": "code",
   "execution_count": 52,
   "id": "ef73d25f-df97-48a6-acb8-96e1229267ba",
   "metadata": {},
   "outputs": [
    {
     "data": {
      "text/plain": [
       "(1000, 100)"
      ]
     },
     "execution_count": 52,
     "metadata": {},
     "output_type": "execute_result"
    }
   ],
   "source": [
    "cos_gt_10m.shape"
   ]
  },
  {
   "cell_type": "code",
   "execution_count": 45,
   "id": "cb66988b-d154-47f2-a4fc-d7c6f2795e77",
   "metadata": {},
   "outputs": [
    {
     "data": {
      "text/plain": [
       "(1000, 100)"
      ]
     },
     "execution_count": 45,
     "metadata": {},
     "output_type": "execute_result"
    }
   ],
   "source": [
    "gt.shape"
   ]
  },
  {
   "cell_type": "code",
   "execution_count": null,
   "id": "2d8da690-ddec-45b4-a989-bff8354e056f",
   "metadata": {},
   "outputs": [],
   "source": []
  },
  {
   "cell_type": "code",
   "execution_count": 26,
   "id": "68f7ac04-737a-49ba-9885-28b5d63f2dfa",
   "metadata": {},
   "outputs": [
    {
     "data": {
      "text/plain": [
       "5.196"
      ]
     },
     "execution_count": 26,
     "metadata": {},
     "output_type": "execute_result"
    }
   ],
   "source": [
    "c = 0\n",
    "lst = []\n",
    "\n",
    "for q in one:\n",
    "    for ind in q:\n",
    "        if ind in gt[:10]:\n",
    "            c += 1\n",
    "    lst.append(c)\n",
    "    \n",
    "sum(lst) / len(lst)\n",
    "    \n",
    "    \n",
    "# take first query, get the vec of the indx\n",
    "# compute the distance, same with groundtruth\n",
    "# lst of 10 distance\n",
    "\n",
    "# take 1m of deep1b, run same step"
   ]
  }
 ],
 "metadata": {
  "kernelspec": {
   "display_name": "Python 3 (ipykernel)",
   "language": "python",
   "name": "python3"
  },
  "language_info": {
   "codemirror_mode": {
    "name": "ipython",
    "version": 3
   },
   "file_extension": ".py",
   "mimetype": "text/x-python",
   "name": "python",
   "nbconvert_exporter": "python",
   "pygments_lexer": "ipython3",
   "version": "3.10.10"
  }
 },
 "nbformat": 4,
 "nbformat_minor": 5
}
