{
 "cells": [
  {
   "cell_type": "code",
   "execution_count": 1,
   "id": "96f635b0-1b0d-481d-96bf-b27f39cf9bbb",
   "metadata": {},
   "outputs": [],
   "source": [
    "import numpy as np\n",
    "import random\n",
    "from tqdm import tqdm"
   ]
  },
  {
   "cell_type": "code",
   "execution_count": 2,
   "id": "eafa8f8a-2f2d-43b8-9fe5-a6e11180b4f8",
   "metadata": {},
   "outputs": [],
   "source": [
    "# CONFIG\n",
    "ATLAS_EMBEDDINGS = \"/mnt/nas1/atlas_data/benchmarking/atlas.npy\"\n",
    "QUERY_INDS = \"/mnt/nas1/atlas_data/benchmarking/query_ind.npy\"\n",
    "QUERY_VECS = \"/mnt/nas1/atlas_data/benchmarking/query_vec.npy\"\n",
    "BASE_ATLAS = \"/mnt/nas1/atlas_data/benchmarking/base_atlas.npy\"\n",
    "\n",
    "QUERY_VECS_TEST = \"/mnt/nas1/atlas_data/benchmarking/query_vec_test.npy\"\n",
    "QUERY_INDS_TEST = \"/mnt/nas1/atlas_data/benchmarking/query_ind_test.npy\"\n",
    "BASE_ATLAS_TEST = \"/mnt/nas1/atlas_data/benchmarking/base_atlas_test.npy\"\n",
    "\n",
    "SIZE = 1000"
   ]
  },
  {
   "cell_type": "code",
   "execution_count": 3,
   "id": "bd8af2f7-ef5a-4845-a4f8-01b03b96f022",
   "metadata": {},
   "outputs": [],
   "source": [
    "base = np.load(BASE_ATLAS, allow_pickle=True)"
   ]
  },
  {
   "cell_type": "code",
   "execution_count": null,
   "id": "ede5c5ca-3129-423b-a211-883682d84be0",
   "metadata": {},
   "outputs": [],
   "source": [
    "32 137 737"
   ]
  },
  {
   "cell_type": "code",
   "execution_count": 4,
   "id": "5e9845ff-b2a9-4516-9c67-1d049a9a4170",
   "metadata": {},
   "outputs": [
    {
     "data": {
      "text/plain": [
       "32137737"
      ]
     },
     "execution_count": 4,
     "metadata": {},
     "output_type": "execute_result"
    }
   ],
   "source": [
    "len(base)"
   ]
  },
  {
   "cell_type": "code",
   "execution_count": 8,
   "id": "2a7773ac-90d8-45bb-8394-511e07b5e139",
   "metadata": {},
   "outputs": [],
   "source": [
    "oneM = 1000000\n",
    "twoM = 2000000\n",
    "fiveM = 5000000\n",
    "tenM = 10000000\n",
    "twentyM = 20000000\n",
    "thirtyM = 30000000\n",
    "\n",
    "TEST_1M = \"/mnt/nas1/atlas_data/benchmarking/BASE_1M_test.npy\""
   ]
  },
  {
   "cell_type": "code",
   "execution_count": 6,
   "id": "8cba172f-4dc0-4987-8bd2-08c816283249",
   "metadata": {},
   "outputs": [],
   "source": [
    "atlas_1M = base[:oneM]"
   ]
  },
  {
   "cell_type": "code",
   "execution_count": 7,
   "id": "bd1890a3-e6ba-4742-b54b-f7b093c51900",
   "metadata": {},
   "outputs": [
    {
     "data": {
      "text/plain": [
       "1000000"
      ]
     },
     "execution_count": 7,
     "metadata": {},
     "output_type": "execute_result"
    }
   ],
   "source": [
    "len(atlas_1M)"
   ]
  },
  {
   "cell_type": "code",
   "execution_count": 9,
   "id": "64224e76-2ce9-4746-afaf-a1a457b54463",
   "metadata": {},
   "outputs": [],
   "source": [
    "np.save(TEST_1M, atlas_1M)"
   ]
  },
  {
   "cell_type": "code",
   "execution_count": 10,
   "id": "48be561a-24ff-4932-99c8-03e58663e2bc",
   "metadata": {},
   "outputs": [],
   "source": [
    "t = np.load(TEST_1M, allow_pickle=True)"
   ]
  },
  {
   "cell_type": "code",
   "execution_count": 11,
   "id": "7d488a91-0707-4185-9cae-3c368f40b0af",
   "metadata": {},
   "outputs": [
    {
     "data": {
      "text/plain": [
       "(1000000, 768)"
      ]
     },
     "execution_count": 11,
     "metadata": {},
     "output_type": "execute_result"
    }
   ],
   "source": [
    "t.shape"
   ]
  },
  {
   "cell_type": "code",
   "execution_count": null,
   "id": "b8b7df04-3374-4ad8-a3f7-752a8b41bee2",
   "metadata": {},
   "outputs": [],
   "source": []
  },
  {
   "cell_type": "code",
   "execution_count": null,
   "id": "e1c09acc-fd27-4515-aa1e-dc8bbb2d9be3",
   "metadata": {},
   "outputs": [],
   "source": []
  },
  {
   "cell_type": "code",
   "execution_count": 32,
   "id": "833338ce-b317-4a6f-b3c2-5b62af91bfd6",
   "metadata": {},
   "outputs": [
    {
     "data": {
      "text/plain": [
       "(10, 10)"
      ]
     },
     "execution_count": 32,
     "metadata": {},
     "output_type": "execute_result"
    }
   ],
   "source": [
    "twodarr = np.random.rand(10,10)\n",
    "twodarr.shape"
   ]
  },
  {
   "cell_type": "code",
   "execution_count": 38,
   "id": "6fe29ced-f613-431f-89ea-6eb56a46aaa5",
   "metadata": {},
   "outputs": [
    {
     "data": {
      "text/plain": [
       "array([0.71583192, 0.04656704, 0.56153946, 0.48158387, 0.42563895,\n",
       "       0.5427828 , 0.88085468, 0.77722577, 0.16566186, 0.35048947])"
      ]
     },
     "execution_count": 38,
     "metadata": {},
     "output_type": "execute_result"
    }
   ],
   "source": [
    "twodarr[5, :]"
   ]
  },
  {
   "cell_type": "code",
   "execution_count": 39,
   "id": "61fbaf7a-c15b-466f-b110-c3244183d284",
   "metadata": {},
   "outputs": [
    {
     "data": {
      "text/plain": [
       "array([0.71583192, 0.04656704, 0.56153946, 0.48158387, 0.42563895,\n",
       "       0.5427828 , 0.88085468, 0.77722577, 0.16566186, 0.35048947])"
      ]
     },
     "execution_count": 39,
     "metadata": {},
     "output_type": "execute_result"
    }
   ],
   "source": [
    "twodarr[5]"
   ]
  },
  {
   "cell_type": "code",
   "execution_count": null,
   "id": "c9a7701c-aff1-4be9-921e-e2a324df6926",
   "metadata": {},
   "outputs": [],
   "source": []
  },
  {
   "cell_type": "code",
   "execution_count": 3,
   "id": "53d2acac-51e0-484e-9624-0651b1ee45a8",
   "metadata": {},
   "outputs": [],
   "source": [
    "# load the final embeddings\n",
    "arr = np.load(ATLAS_EMBEDDINGS, allow_pickle=True)\n",
    "\n",
    "TOTAL_LENGTH = arr.shape[0]\n"
   ]
  },
  {
   "cell_type": "code",
   "execution_count": 4,
   "id": "989d4ff5-b215-4fdf-88ff-6352c5588e37",
   "metadata": {},
   "outputs": [],
   "source": [
    "arr_cp = arr\n",
    "arr_base = arr"
   ]
  },
  {
   "cell_type": "code",
   "execution_count": 5,
   "id": "b30a0126-d68c-432c-a7a8-c099a467043b",
   "metadata": {},
   "outputs": [
    {
     "data": {
      "text/plain": [
       "32138737"
      ]
     },
     "execution_count": 5,
     "metadata": {},
     "output_type": "execute_result"
    }
   ],
   "source": [
    "TOTAL_LENGTH"
   ]
  },
  {
   "cell_type": "code",
   "execution_count": 6,
   "id": "968c25a7-5361-4c51-93b7-673d1c8eff22",
   "metadata": {},
   "outputs": [
    {
     "data": {
      "text/plain": [
       "(32138737, 768)"
      ]
     },
     "execution_count": 6,
     "metadata": {},
     "output_type": "execute_result"
    }
   ],
   "source": [
    "arr.shape"
   ]
  },
  {
   "cell_type": "code",
   "execution_count": 7,
   "id": "79522115-7dc5-4081-9c22-7b87d57afde6",
   "metadata": {},
   "outputs": [],
   "source": [
    "\n",
    "# generate 1000 random index\n",
    "random.seed(30) # same every time\n",
    "\n",
    "LST_IND = []\n",
    "for i in range(SIZE):\n",
    "    idx = random.randint(0, TOTAL_LENGTH)\n",
    "    LST_IND.append(idx)\n",
    "    \n",
    "np.save(QUERY_INDS_TEST, LST_IND)"
   ]
  },
  {
   "cell_type": "code",
   "execution_count": 8,
   "id": "5691d0ef-c398-4381-b0a1-37c128f0fd2d",
   "metadata": {},
   "outputs": [],
   "source": [
    "arr_lst = []\n",
    "for idx in LST_IND:\n",
    "    q_arr = arr[idx]#.reshape(1, 768)\n",
    "    arr_lst.append(q_arr)\n",
    "np.save(QUERY_VECS_TEST, arr_lst)"
   ]
  },
  {
   "cell_type": "code",
   "execution_count": 21,
   "id": "9ded53f5-0aec-47ba-957f-575f17202bf4",
   "metadata": {},
   "outputs": [
    {
     "name": "stderr",
     "output_type": "stream",
     "text": [
      "100%|██████████████████████████████████████████████████████████████████████████████████████████████████████████████| 32138737/32138737 [03:13<00:00, 166461.75it/s]\n"
     ]
    }
   ],
   "source": [
    "# create base atlas\n",
    "arr_new = []\n",
    "\n",
    "for i in tqdm(range(TOTAL_LENGTH)):\n",
    "    if i not in LST_IND:\n",
    "        #arr_new = np.take(arr_cp, i)\n",
    "        arr_new.append(arr[i])\n",
    "\n",
    "        print(\"saving base embeddings now.. \")\n",
    "np.save(BASE_ATLAS_TEST, arr_new)"
   ]
  },
  {
   "cell_type": "code",
   "execution_count": 22,
   "id": "b0325963-1463-40de-bd7e-bd0695bcb1e9",
   "metadata": {},
   "outputs": [],
   "source": [
    "# test if query saved\n",
    "\n",
    "q = np.load(QUERY_VECS_TEST, allow_pickle=True)\n",
    "idn = np.load(QUERY_INDS_TEST)\n",
    "base = np.load(BASE_ATLAS_TEST, allow_pickle=True)"
   ]
  },
  {
   "cell_type": "code",
   "execution_count": 25,
   "id": "e20a9993-5a65-4b52-8377-147cf7dffad1",
   "metadata": {},
   "outputs": [],
   "source": [
    "base = np.load(BASE_ATLAS, allow_pickle=True)"
   ]
  },
  {
   "cell_type": "code",
   "execution_count": 26,
   "id": "e2097e64-fc27-43ce-a843-7c7ba75885c2",
   "metadata": {},
   "outputs": [
    {
     "data": {
      "text/plain": [
       "32137737"
      ]
     },
     "execution_count": 26,
     "metadata": {},
     "output_type": "execute_result"
    }
   ],
   "source": [
    "len(base)"
   ]
  },
  {
   "cell_type": "code",
   "execution_count": null,
   "id": "e25afed3-6f44-4bb1-95ae-5b638b7dbf6f",
   "metadata": {},
   "outputs": [],
   "source": []
  },
  {
   "cell_type": "code",
   "execution_count": 23,
   "id": "490fa85e-238b-4ec7-82d2-720fbd264837",
   "metadata": {},
   "outputs": [
    {
     "data": {
      "text/plain": [
       "32137737"
      ]
     },
     "execution_count": 23,
     "metadata": {},
     "output_type": "execute_result"
    }
   ],
   "source": [
    "len(base)"
   ]
  },
  {
   "cell_type": "code",
   "execution_count": 24,
   "id": "6fd6ce9e-e1b8-448c-bcbb-adadb96bb978",
   "metadata": {},
   "outputs": [
    {
     "data": {
      "text/plain": [
       "(32137737, 768)"
      ]
     },
     "execution_count": 24,
     "metadata": {},
     "output_type": "execute_result"
    }
   ],
   "source": [
    "base.shape"
   ]
  },
  {
   "cell_type": "code",
   "execution_count": 56,
   "id": "0fe73b77-6e18-4257-9245-84783cec7da1",
   "metadata": {},
   "outputs": [
    {
     "data": {
      "text/plain": [
       "(768,)"
      ]
     },
     "execution_count": 56,
     "metadata": {},
     "output_type": "execute_result"
    }
   ],
   "source": [
    "q[0].shape"
   ]
  },
  {
   "cell_type": "code",
   "execution_count": 61,
   "id": "9309aa1b-86b6-452d-9393-2e33ea1700a6",
   "metadata": {},
   "outputs": [
    {
     "data": {
      "text/plain": [
       "(1000,)"
      ]
     },
     "execution_count": 61,
     "metadata": {},
     "output_type": "execute_result"
    }
   ],
   "source": [
    "idn.shape"
   ]
  },
  {
   "cell_type": "code",
   "execution_count": 16,
   "id": "4a140490-9f60-4bc8-bc86-8f37b2805a2b",
   "metadata": {},
   "outputs": [
    {
     "data": {
      "text/plain": [
       "-0.01411438"
      ]
     },
     "execution_count": 16,
     "metadata": {},
     "output_type": "execute_result"
    }
   ],
   "source": [
    "arr_new"
   ]
  },
  {
   "cell_type": "code",
   "execution_count": null,
   "id": "082c5c1b-4c25-4c75-b555-638ce94e8e6d",
   "metadata": {},
   "outputs": [],
   "source": []
  }
 ],
 "metadata": {
  "kernelspec": {
   "display_name": "Python 3 (ipykernel)",
   "language": "python",
   "name": "python3"
  },
  "language_info": {
   "codemirror_mode": {
    "name": "ipython",
    "version": 3
   },
   "file_extension": ".py",
   "mimetype": "text/x-python",
   "name": "python",
   "nbconvert_exporter": "python",
   "pygments_lexer": "ipython3",
   "version": "3.9.13"
  }
 },
 "nbformat": 4,
 "nbformat_minor": 5
}
