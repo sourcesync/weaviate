{
 "cells": [
  {
   "cell_type": "code",
   "execution_count": 1,
   "id": "96f635b0-1b0d-481d-96bf-b27f39cf9bbb",
   "metadata": {},
   "outputs": [],
   "source": [
    "import numpy as np\n",
    "import random"
   ]
  },
  {
   "cell_type": "code",
   "execution_count": 2,
   "id": "e165e779-0ab5-4251-907a-284d78a1606c",
   "metadata": {},
   "outputs": [],
   "source": [
    "random.seed(30)"
   ]
  },
  {
   "cell_type": "code",
   "execution_count": 6,
   "id": "f94dd9be-023a-43ba-b867-75e7e1867e62",
   "metadata": {},
   "outputs": [],
   "source": [
    "lst = []\n",
    "lst_2 = []"
   ]
  },
  {
   "cell_type": "code",
   "execution_count": 7,
   "id": "99da0566-4b90-4deb-b1db-c71ed1360e49",
   "metadata": {},
   "outputs": [],
   "source": [
    "for i in range(10):\n",
    "    idx = random.randint(1, 3000)\n",
    "    lst.append(idx)"
   ]
  },
  {
   "cell_type": "code",
   "execution_count": 8,
   "id": "f52c04de-7999-49a1-b678-d5d3ab44845f",
   "metadata": {},
   "outputs": [
    {
     "data": {
      "text/plain": [
       "[1541, 2628, 550, 334, 1891, 32, 2140, 994, 106, 298]"
      ]
     },
     "execution_count": 8,
     "metadata": {},
     "output_type": "execute_result"
    }
   ],
   "source": [
    "lst"
   ]
  },
  {
   "cell_type": "code",
   "execution_count": 10,
   "id": "3f2139c6-ad2b-4676-9a03-91def03e00ed",
   "metadata": {},
   "outputs": [],
   "source": [
    "for i in range(10):\n",
    "    idx = random.randint(1, 3000)\n",
    "    lst_2.append(idx)"
   ]
  },
  {
   "cell_type": "code",
   "execution_count": 11,
   "id": "36d55247-b438-4d4a-871f-c2ba9c8599c1",
   "metadata": {},
   "outputs": [
    {
     "data": {
      "text/plain": [
       "[2456, 2175, 1646, 2681, 1428, 2193, 278, 1645, 97, 1019]"
      ]
     },
     "execution_count": 11,
     "metadata": {},
     "output_type": "execute_result"
    }
   ],
   "source": [
    "lst_2"
   ]
  },
  {
   "cell_type": "code",
   "execution_count": 63,
   "id": "eafa8f8a-2f2d-43b8-9fe5-a6e11180b4f8",
   "metadata": {},
   "outputs": [],
   "source": [
    "# CONFIG\n",
    "ATLAS_EMBEDDINGS = \"/mnt/nas1/atlas_data/benchmarking/atlas.npy\"\n",
    "QUERY_INDS = \"/mnt/nas1/atlas_data/benchmarking/query_ind.npy\"\n",
    "QUERY_VECS = \"/mnt/nas1/atlas_data/benchmarking/query_vec.npy\"\n",
    "BASE_ATLAS = \"/mnt/nas1/atlas_data/benchmarking/base_atlas.npy\"\n",
    "\n",
    "QUERY_VECS_TEST = \"/mnt/nas1/atlas_data/benchmarking/query_vec_test.npy\"\n",
    "QUERY_INDS_TEST = \"/mnt/nas1/atlas_data/benchmarking/query_ind_test.npy\"\n",
    "BASE_ATLAS_TEST = \"/mnt/nas1/atlas_data/benchmarking/base_atlas_test.npy\"\n",
    "\n",
    "\n",
    "\n",
    "SIZE = 1000\n",
    "\n",
    "\n"
   ]
  },
  {
   "cell_type": "code",
   "execution_count": 12,
   "id": "53d2acac-51e0-484e-9624-0651b1ee45a8",
   "metadata": {},
   "outputs": [],
   "source": [
    "# load the final embeddings\n",
    "arr = np.load(ATLAS_EMBEDDINGS, allow_pickle=True)\n",
    "\n",
    "TOTAL_LENGTH = arr.shape[0]\n"
   ]
  },
  {
   "cell_type": "code",
   "execution_count": 67,
   "id": "989d4ff5-b215-4fdf-88ff-6352c5588e37",
   "metadata": {},
   "outputs": [],
   "source": [
    "arr_cp = arr\n",
    "arr_base = arr"
   ]
  },
  {
   "cell_type": "code",
   "execution_count": 13,
   "id": "b30a0126-d68c-432c-a7a8-c099a467043b",
   "metadata": {},
   "outputs": [
    {
     "data": {
      "text/plain": [
       "32138737"
      ]
     },
     "execution_count": 13,
     "metadata": {},
     "output_type": "execute_result"
    }
   ],
   "source": [
    "TOTAL_LENGTH"
   ]
  },
  {
   "cell_type": "code",
   "execution_count": 24,
   "id": "968c25a7-5361-4c51-93b7-673d1c8eff22",
   "metadata": {},
   "outputs": [
    {
     "data": {
      "text/plain": [
       "(32138737, 768)"
      ]
     },
     "execution_count": 24,
     "metadata": {},
     "output_type": "execute_result"
    }
   ],
   "source": [
    "arr.shape"
   ]
  },
  {
   "cell_type": "code",
   "execution_count": 58,
   "id": "79522115-7dc5-4081-9c22-7b87d57afde6",
   "metadata": {},
   "outputs": [],
   "source": [
    "\n",
    "# generate 1000 random index\n",
    "random.seed(30) # same every time\n",
    "\n",
    "LST_IND = []\n",
    "for i in range(SIZE):\n",
    "    idx = random.randint(0, TOTAL_LENGTH)\n",
    "    LST_IND.append(idx)\n",
    "    \n",
    "np.save(QUERY_INDS_TEST, LST_IND)"
   ]
  },
  {
   "cell_type": "code",
   "execution_count": 15,
   "id": "4475d257-5d1b-4a19-809a-3fb64197c13f",
   "metadata": {},
   "outputs": [
    {
     "data": {
      "text/plain": [
       "(768,)"
      ]
     },
     "execution_count": 31,
     "metadata": {},
     "output_type": "execute_result"
    }
   ],
   "source": [
    "len(LST_IND)"
   ]
  },
  {
   "cell_type": "code",
   "execution_count": null,
   "id": "5691d0ef-c398-4381-b0a1-37c128f0fd2d",
   "metadata": {},
   "outputs": [
    {
     "name": "stdout",
     "output_type": "stream",
     "text": [
      "deleteing  18088575\n"
     ]
    }
   ],
   "source": [
    "arr_lst = []\n",
    "for idx in LST_IND:\n",
    "    q_arr = arr[idx]#.reshape(1, 768)\n",
    "    arr_lst.append(q_arr)\n",
    "    print(\"deleteing \", idx)\n",
    "    arr_new = np.delete(arr_cp, idx)\n",
    "np.save(QUERY_VECS_TEST, arr_lst)\n",
    "np.save(BASE_ATLAS_TEST, arr_new)"
   ]
  },
  {
   "cell_type": "code",
   "execution_count": 59,
   "id": "b0325963-1463-40de-bd7e-bd0695bcb1e9",
   "metadata": {},
   "outputs": [],
   "source": [
    "# test if query saved\n",
    "\n",
    "q = np.load(QUERY_VECS_TEST, allow_pickle=True)\n",
    "idn = np.load(QUERY_INDS_TEST)\n",
    "base = np.load(BASE_ATLAS_TEST, allow_pickle=True)"
   ]
  },
  {
   "cell_type": "code",
   "execution_count": 53,
   "id": "490fa85e-238b-4ec7-82d2-720fbd264837",
   "metadata": {},
   "outputs": [
    {
     "data": {
      "text/plain": [
       "1000"
      ]
     },
     "execution_count": 53,
     "metadata": {},
     "output_type": "execute_result"
    }
   ],
   "source": [
    "len(base)"
   ]
  },
  {
   "cell_type": "code",
   "execution_count": 54,
   "id": "6fd6ce9e-e1b8-448c-bcbb-adadb96bb978",
   "metadata": {},
   "outputs": [
    {
     "data": {
      "text/plain": [
       "(1000, 768)"
      ]
     },
     "execution_count": 54,
     "metadata": {},
     "output_type": "execute_result"
    }
   ],
   "source": [
    "base.shape"
   ]
  },
  {
   "cell_type": "code",
   "execution_count": 56,
   "id": "0fe73b77-6e18-4257-9245-84783cec7da1",
   "metadata": {},
   "outputs": [
    {
     "data": {
      "text/plain": [
       "(768,)"
      ]
     },
     "execution_count": 56,
     "metadata": {},
     "output_type": "execute_result"
    }
   ],
   "source": [
    "q[0].shape"
   ]
  },
  {
   "cell_type": "code",
   "execution_count": 61,
   "id": "9309aa1b-86b6-452d-9393-2e33ea1700a6",
   "metadata": {},
   "outputs": [
    {
     "data": {
      "text/plain": [
       "(1000,)"
      ]
     },
     "execution_count": 61,
     "metadata": {},
     "output_type": "execute_result"
    }
   ],
   "source": [
    "idn.shape"
   ]
  },
  {
   "cell_type": "code",
   "execution_count": null,
   "id": "4a140490-9f60-4bc8-bc86-8f37b2805a2b",
   "metadata": {},
   "outputs": [],
   "source": []
  }
 ],
 "metadata": {
  "kernelspec": {
   "display_name": "Python 3 (ipykernel)",
   "language": "python",
   "name": "python3"
  },
  "language_info": {
   "codemirror_mode": {
    "name": "ipython",
    "version": 3
   },
   "file_extension": ".py",
   "mimetype": "text/x-python",
   "name": "python",
   "nbconvert_exporter": "python",
   "pygments_lexer": "ipython3",
   "version": "3.9.13"
  }
 },
 "nbformat": 4,
 "nbformat_minor": 5
}
