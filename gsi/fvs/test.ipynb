{
 "cells": [
  {
   "cell_type": "code",
   "execution_count": 14,
   "metadata": {},
   "outputs": [],
   "source": [
    "import swagger_client\n",
    "from swagger_client.models import *\n",
    "from swagger_client.models import ImportDatasetRequest\n",
    "import socket\n",
    "import time"
   ]
  },
  {
   "cell_type": "code",
   "execution_count": 11,
   "metadata": {},
   "outputs": [
    {
     "name": "stdout",
     "output_type": "stream",
     "text": [
      "Getting total datasets...\n",
      "Number of datasets:95\n",
      "Number of loaded datasets: 0\n"
     ]
    }
   ],
   "source": [
    "# Setup connection to local FVS api\n",
    "server = socket.gethostbyname(socket.gethostname())\n",
    "port = \"7761\"\n",
    "version = 'v1.0'\n",
    "\n",
    "# Create FVS api objects\n",
    "config = swagger_client.configuration.Configuration()\n",
    "api_config = swagger_client.ApiClient(config)\n",
    "gsi_boards_apis = swagger_client.BoardsApi(api_config)\n",
    "gsi_dataset_apis = swagger_client.DatasetApi(api_config)\n",
    "gsi_datasets_apis = swagger_client.DatasetsApi(api_config)\n",
    "\n",
    "# Configure the FVS api\n",
    "config.verify_ssl = False\n",
    "config.host = f'http://{server}:{port}/{version}'\n",
    "\n",
    "# Capture the supplied allocation id\n",
    "Allocation_id = \"fd283b38-3e4a-11eb-a205-7085c2c5e516\"\n",
    "\n",
    "# Set default header\n",
    "api_config.default_headers[\"allocationToken\"] = Allocation_id\n",
    "\n",
    "# Print dataset count\n",
    "print(\"Getting total datasets...\")\n",
    "dsets = gsi_datasets_apis.controllers_dataset_controller_get_datasets_list(allocation_token=Allocation_id)\n",
    "print(f\"Number of datasets:{len(dsets.datasets_list)}\")\n",
    "loaded = gsi_boards_apis.controllers_boards_controller_get_allocations_list(Allocation_id)\n",
    "print(f\"Number of loaded datasets: {len(loaded.allocations_list[Allocation_id]['loadedDatasets'])}\")"
   ]
  },
  {
   "cell_type": "code",
   "execution_count": 9,
   "metadata": {},
   "outputs": [
    {
     "name": "stdout",
     "output_type": "stream",
     "text": [
      "Number of loaded datasets: 2\n",
      "Unloading all loaded datasets...\n",
      "JSON method= POST url= http://192.168.99.40:7761/v1.0/dataset/unload request_body= {\"allocationId\": \"fd283b38-3e4a-11eb-a205-7085c2c5e516\", \"datasetId\": \"be9ba766-a6da-4878-9c11-22e88a9bf720\", \"asyncUnload\": false} preload True headers {'allocationToken': 'fd283b38-3e4a-11eb-a205-7085c2c5e516', 'Accept': 'application/json', 'Content-Type': 'application/json', 'User-Agent': 'Swagger-Codegen/1.0.0/python'}\n",
      "JSON method= POST url= http://192.168.99.40:7761/v1.0/dataset/unload request_body= {\"allocationId\": \"fd283b38-3e4a-11eb-a205-7085c2c5e516\", \"datasetId\": \"dbdb2bd0-00d6-4f08-9812-c4d384f60878\", \"asyncUnload\": false} preload True headers {'allocationToken': 'fd283b38-3e4a-11eb-a205-7085c2c5e516', 'Accept': 'application/json', 'Content-Type': 'application/json', 'User-Agent': 'Swagger-Codegen/1.0.0/python'}\n",
      "Unloaded datasets, current loaded dataset count: 0\n"
     ]
    }
   ],
   "source": [
    "loaded = gsi_boards_apis.controllers_boards_controller_get_allocations_list(Allocation_id)\n",
    "print(f\"Number of loaded datasets: {len(loaded.allocations_list[Allocation_id]['loadedDatasets'])}\")\n",
    "# check loaded dataset count\n",
    "if len(loaded.allocations_list[Allocation_id][\"loadedDatasets\"]) > 0:\n",
    "    # Unloading all datasets\n",
    "    print(\"Unloading all loaded datasets...\")\n",
    "    loaded = loaded.allocations_list[Allocation_id][\"loadedDatasets\"]\n",
    "    for data in loaded:\n",
    "        dataset_id = data['datasetId']\n",
    "        resp = gsi_datasets_apis.controllers_dataset_controller_unload_dataset(\n",
    "                    UnloadDatasetRequest(allocation_id=Allocation_id, dataset_id=dataset_id), \n",
    "                    allocation_token=Allocation_id)\n",
    "        if resp.status != 'ok':\n",
    "            print(f\"error unloading dataset: {dataset_id}\")\n",
    "\n",
    "    # Getting current number of loaded datasets\n",
    "    curr = gsi_boards_apis.controllers_boards_controller_get_allocations_list(Allocation_id)\n",
    "    print(f\"Unloaded datasets, current loaded dataset count: {len(curr.allocations_list[Allocation_id]['loadedDatasets'])}\")"
   ]
  },
  {
   "cell_type": "code",
   "execution_count": 3,
   "metadata": {},
   "outputs": [
    {
     "name": "stdout",
     "output_type": "stream",
     "text": [
      "JSON method= POST url= http://192.168.99.40:7761/v1.0/dataset/import request_body= {\"dsFilePath\": \"/mnt/nas1/fvs_benchmark_datasets/deep-10K.npy\", \"searchType\": \"flat\", \"trainInd\": true, \"gridTrain\": false, \"nbits\": 137, \"qbits\": 768, \"targetAccuracy\": 100, \"mdUnique\": false, \"convertToDataset\": false} preload True headers {'allocationToken': 'fd283b38-3e4a-11eb-a205-7085c2c5e516', 'Accept': 'application/json', 'Content-Type': 'application/json', 'User-Agent': 'Swagger-Codegen/1.0.0/python'}\n"
     ]
    }
   ],
   "source": [
    "ds_file_path = \"/mnt/nas1/fvs_benchmark_datasets/deep-10K.npy\"\n",
    "resp = gsi_datasets_apis.controllers_dataset_controller_import_dataset(\\\n",
    "    ImportDatasetRequest(ds_file_path=ds_file_path, train_ind=True, nbits=137), \\\n",
    "        allocation_token=Allocation_id)\n",
    "train_status = gsi_dataset_apis.controllers_dataset_controller_get_train_status(\\\n",
    "    dataset_id=dataset_id, allocation_token=Allocation_id)\n",
    "while train_status.dataset_status == \"training\":\n",
    "    time.sleep(1)\n",
    "    train_status = gsi_dataset_apis.controllers_dataset_controller_get_train_status(\\\n",
    "        dataset_id=dataset_id, allocation_token=Allocation_id)\n",
    "    print(train_status)"
   ]
  },
  {
   "cell_type": "code",
   "execution_count": 12,
   "metadata": {},
   "outputs": [
    {
     "data": {
      "text/plain": [
       "{'dataset_status': 'training'}"
      ]
     },
     "execution_count": 12,
     "metadata": {},
     "output_type": "execute_result"
    }
   ],
   "source": [
    "dataset_id = resp.dataset_id\n",
    "train_status = gsi_dataset_apis.controllers_dataset_controller_get_train_status(\\\n",
    "    dataset_id=dataset_id, allocation_token=Allocation_id)\n",
    "train_status"
   ]
  },
  {
   "cell_type": "code",
   "execution_count": 13,
   "metadata": {},
   "outputs": [
    {
     "data": {
      "text/plain": [
       "'training'"
      ]
     },
     "execution_count": 13,
     "metadata": {},
     "output_type": "execute_result"
    }
   ],
   "source": [
    "train_status.dataset_status"
   ]
  },
  {
   "cell_type": "code",
   "execution_count": 15,
   "metadata": {},
   "outputs": [
    {
     "ename": "TypeError",
     "evalue": "controllers_dataset_controller_load_dataset() missing 1 required positional argument: 'body'",
     "output_type": "error",
     "traceback": [
      "\u001b[0;31m---------------------------------------------------------------------------\u001b[0m",
      "\u001b[0;31mTypeError\u001b[0m                                 Traceback (most recent call last)",
      "Cell \u001b[0;32mIn[15], line 1\u001b[0m\n\u001b[0;32m----> 1\u001b[0m gsi_datasets_apis\u001b[39m.\u001b[39;49mcontrollers_dataset_controller_load_dataset(\\\n\u001b[1;32m      2\u001b[0m     dataset_id\u001b[39m=\u001b[39;49mresp\u001b[39m.\u001b[39;49mdataset_id, allocation_token\u001b[39m=\u001b[39;49mAllocation_id)\n",
      "\u001b[0;31mTypeError\u001b[0m: controllers_dataset_controller_load_dataset() missing 1 required positional argument: 'body'"
     ]
    }
   ],
   "source": [
    "gsi_datasets_apis.controllers_dataset_controller_load_dataset(\\\n",
    "    dataset_id=resp.dataset_id, allocation_token=Allocation_id)"
   ]
  },
  {
   "cell_type": "code",
   "execution_count": null,
   "metadata": {},
   "outputs": [],
   "source": []
  }
 ],
 "metadata": {
  "kernelspec": {
   "display_name": "weav",
   "language": "python",
   "name": "python3"
  },
  "language_info": {
   "codemirror_mode": {
    "name": "ipython",
    "version": 3
   },
   "file_extension": ".py",
   "mimetype": "text/x-python",
   "name": "python",
   "nbconvert_exporter": "python",
   "pygments_lexer": "ipython3",
   "version": "3.8.16"
  },
  "orig_nbformat": 4
 },
 "nbformat": 4,
 "nbformat_minor": 2
}
