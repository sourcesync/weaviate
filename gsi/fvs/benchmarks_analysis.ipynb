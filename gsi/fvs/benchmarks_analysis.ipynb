{
 "cells": [
  {
   "cell_type": "markdown",
   "id": "bdfd7724-a217-401d-ac26-2e44666faf63",
   "metadata": {},
   "source": [
    "# This notebook analyzes FVS benchmark results and produces various graphics"
   ]
  },
  {
   "cell_type": "code",
   "execution_count": 5,
   "id": "8192e62b-7853-4ae6-861e-2812d5ed39d9",
   "metadata": {
    "tags": []
   },
   "outputs": [],
   "source": [
    "#\n",
    "# Configure these settings to reflect your local setup\n",
    "#\n",
    "\n",
    "DEEP1B_DATASETS= {  \\\n",
    "    \"deep1M\": { \\\n",
    "        \"plottitle\": \"1M of Deep1B\", \\\n",
    "        \"queries\": { \\\n",
    "            10: \"results/benchmarks-%s-q10.csv\",\\\n",
    "            1000: \"results/benchmarks-%s-q1000.csv\" \\\n",
    "        } \\\n",
    "    }, \\\n",
    "    \"deep2M\": { \\\n",
    "        \"plottitle\": \"2M of Deep1B\", \\\n",
    "        \"queries\": { \\\n",
    "             1000: \"results/benchmarks-%s-q1000.csv\" \\\n",
    "        } \\\n",
    "    }, \\\n",
    "    \"deep5M\": {\n",
    "        \"plottitle\": \"5M of Deep1B\",\n",
    "        \"queries\": {\n",
    "            10: \"results/benchmarks-%s-q10.csv\"\n",
    "        }\n",
    "    }\n",
    "    \n",
    "}\n",
    "\n",
    "NUM_APUS=1 #TODO: We should validate allocation_id\n",
    "\n",
    "MAIN_MEMORY_SIZE = \"700G\"\n"
   ]
  },
  {
   "cell_type": "code",
   "execution_count": 6,
   "id": "27e55e91-4fc2-4d17-a591-6f335f711976",
   "metadata": {
    "tags": []
   },
   "outputs": [],
   "source": [
    "#\n",
    "# Imports\n",
    "# \n",
    "import pandas as pd\n",
    "import numpy as np\n",
    "import matplotlib.pyplot as plt"
   ]
  },
  {
   "cell_type": "code",
   "execution_count": 7,
   "id": "46d20774-8847-49cb-b683-0314c1f31efc",
   "metadata": {
    "tags": []
   },
   "outputs": [
    {
     "name": "stdout",
     "output_type": "stream",
     "text": [
      "(60, 14)\n",
      "Index(['allocationid', 'datasetid', 'dataset_path', 'queries_path', 'bits',\n",
      "       'ts_start', 'ts_train_start', 'ts_train_end', 'ts_query_start',\n",
      "       'ts_query_end', 'response', 'recall', 'dset_name', 'num_queries'],\n",
      "      dtype='object')\n"
     ]
    }
   ],
   "source": [
    "#\n",
    "# Load all the CSV files into a master dataframe\n",
    "#\n",
    "\n",
    "all_dfs= []\n",
    "\n",
    "for dset in DEEP1B_DATASETS.keys():\n",
    "    for num_queries in DEEP1B_DATASETS[dset][\"queries\"].keys():\n",
    "        df = pd.read_csv( DEEP1B_DATASETS[dset][\"queries\"][num_queries] % dset )\n",
    "        \n",
    "        df['dset_name'] = dset\n",
    "        df['num_queries'] = num_queries\n",
    "        all_dfs.append( df )\n",
    "\n",
    "\n",
    "df_all = pd.concat( all_dfs )\n",
    "print(df_all.shape)\n",
    "print(df_all.columns)\n"
   ]
  },
  {
   "cell_type": "code",
   "execution_count": 8,
   "id": "7ebee922-8554-4b5a-a25a-56fbb6b6d3fb",
   "metadata": {
    "tags": []
   },
   "outputs": [
    {
     "name": "stdout",
     "output_type": "stream",
     "text": [
      "   dset_name  bits  response  recall   throughput\n",
      "0     deep1M   768  0.020478  1.0000   488.334710\n",
      "1     deep1M   768  0.017423  1.0000   573.953474\n",
      "2     deep1M   768  0.018164  1.0000   550.533013\n",
      "3     deep1M   512  0.021775  1.0000   459.249379\n",
      "4     deep1M   512  0.020864  1.0000   479.303071\n",
      "5     deep1M   512  0.020356  1.0000   491.248651\n",
      "6     deep1M   256  0.009880  1.0000  1012.132634\n",
      "7     deep1M   256  0.010556  1.0000   947.327907\n",
      "8     deep1M   256  0.011289  1.0000   885.820644\n",
      "9     deep1M   128  0.010454  0.9800   956.616578\n",
      "10    deep1M   128  0.010239  0.9800   976.634983\n",
      "11    deep1M   128  0.011786  0.9800   848.473780\n",
      "12    deep1M    64  0.007231  0.9700  1383.016827\n",
      "13    deep1M    64  0.007764  0.9700  1288.075512\n",
      "14    deep1M    64  0.007544  0.9700  1325.524754\n",
      "0     deep1M   768  2.915360  0.9997   343.010825\n",
      "1     deep1M   768  2.940215  0.9997   340.111132\n",
      "2     deep1M   768  2.875883  0.9997   347.719296\n",
      "3     deep1M   512  0.887977  0.9997  1126.155282\n",
      "4     deep1M   512  0.895868  0.9997  1116.235349\n",
      "5     deep1M   512  0.886778  0.9997  1127.677799\n",
      "6     deep1M   256  0.611309  0.9994  1635.832701\n",
      "7     deep1M   256  0.654820  0.9994  1527.136461\n",
      "8     deep1M   256  0.603681  0.9994  1656.502878\n",
      "9     deep1M   128  0.641501  0.9899  1558.842928\n",
      "10    deep1M   128  0.596934  0.9899  1675.227815\n",
      "11    deep1M   128  0.591362  0.9899  1691.011634\n",
      "12    deep1M    64  0.450553  0.9455  2219.492523\n",
      "13    deep1M    64  0.491143  0.9455  2036.067092\n",
      "14    deep1M    64  0.492434  0.9455  2030.729214\n",
      "0     deep2M   768  8.338965  1.0000   119.918955\n",
      "1     deep2M   768  8.493990  1.0000   117.730297\n",
      "2     deep2M   768  8.400651  1.0000   119.038399\n",
      "3     deep2M   512  8.242490  1.0000   121.322555\n",
      "4     deep2M   512  8.228057  1.0000   121.535376\n",
      "5     deep2M   512  8.181627  1.0000   122.225074\n",
      "6     deep2M   256  7.661795  0.9989   130.517718\n",
      "7     deep2M   256  7.724615  0.9989   129.456284\n",
      "8     deep2M   256  7.725456  0.9989   129.442193\n",
      "9     deep2M   128  0.632146  0.9872  1581.914052\n",
      "10    deep2M   128  0.673510  0.9872  1484.759410\n",
      "11    deep2M   128  0.737551  0.9872  1355.839102\n",
      "12    deep2M    64  0.724834  0.9215  1379.626845\n",
      "13    deep2M    64  0.608279  0.9215  1643.983230\n",
      "14    deep2M    64  0.613688  0.9215  1629.491316\n",
      "0     deep5M   768  0.043217  1.0000   231.389778\n",
      "1     deep5M   768  0.039492  1.0000   253.217239\n",
      "2     deep5M   768  0.041161  1.0000   242.951089\n",
      "3     deep5M   512  0.030470  1.0000   328.190382\n",
      "4     deep5M   512  0.028820  1.0000   346.975724\n",
      "5     deep5M   512  0.028315  1.0000   353.173877\n",
      "6     deep5M   256  0.021054  1.0000   474.978174\n",
      "7     deep5M   256  0.021483  1.0000   465.488236\n",
      "8     deep5M   256  0.022695  1.0000   440.625593\n",
      "9     deep5M   128  0.018822  0.9800   531.287325\n",
      "10    deep5M   128  0.018453  0.9800   541.904794\n",
      "11    deep5M   128  0.021933  0.9800   455.931487\n",
      "12    deep5M    64  0.023231  0.8800   430.466230\n",
      "13    deep5M    64  0.018606  0.8800   537.457106\n",
      "14    deep5M    64  0.021247  0.8800   470.656897\n"
     ]
    }
   ],
   "source": [
    "#\n",
    "# Create throughput column\n",
    "#\n",
    "\n",
    "df_all['throughput'] = df_all.apply( \\\n",
    "            lambda row: row['num_queries']/row['response'], axis=1 )\n",
    "    \n",
    "print(df_all[[\"dset_name\",\"bits\",\"response\",\"recall\", \"throughput\"]])"
   ]
  },
  {
   "cell_type": "code",
   "execution_count": 9,
   "id": "1dd09d57-8855-464c-8061-7f1d5bbc794c",
   "metadata": {
    "tags": []
   },
   "outputs": [
    {
     "name": "stdout",
     "output_type": "stream",
     "text": [
      "   dset_name  num_queries  bits  recall   throughput\n",
      "0     deep1M           10    64  0.9700  1332.205698\n",
      "1     deep1M           10   128  0.9800   927.241780\n",
      "2     deep1M           10   256  1.0000   948.427062\n",
      "3     deep1M           10   512  1.0000   476.600367\n",
      "4     deep1M           10   768  1.0000   537.607066\n",
      "5     deep1M         1000    64  0.9455  2095.429609\n",
      "6     deep1M         1000   128  0.9899  1641.694126\n",
      "7     deep1M         1000   256  0.9994  1606.490680\n",
      "8     deep1M         1000   512  0.9997  1123.356144\n",
      "9     deep1M         1000   768  0.9997   343.613751\n",
      "10    deep2M         1000    64  0.9215  1551.033797\n",
      "11    deep2M         1000   128  0.9872  1474.170855\n",
      "12    deep2M         1000   256  0.9989   129.805398\n",
      "13    deep2M         1000   512  1.0000   121.694335\n",
      "14    deep2M         1000   768  1.0000   118.895884\n",
      "15    deep5M           10    64  0.8800   479.526744\n",
      "16    deep5M           10   128  0.9800   509.707869\n",
      "17    deep5M           10   256  1.0000   460.364001\n",
      "18    deep5M           10   512  1.0000   342.779994\n",
      "19    deep5M           10   768  1.0000   242.519369\n"
     ]
    }
   ],
   "source": [
    "# \n",
    "# Grouping rows by (num_queries,bits) and then average 'recall' and 'throughput'\n",
    "# \n",
    "\n",
    "df_plot = \\\n",
    "    df_all[[\"dset_name\", \"num_queries\",\"bits\",\"recall\",\"throughput\"]].\\\n",
    "        groupby([\"dset_name\",'num_queries', 'bits'], as_index=False).mean()\n",
    "print(df_plot)"
   ]
  },
  {
   "cell_type": "code",
   "execution_count": 10,
   "id": "0437937c-c05c-441b-9c28-bd1ee06f1a1e",
   "metadata": {
    "tags": []
   },
   "outputs": [
    {
     "data": {
      "image/png": "[encoded data removed]",
      "text/plain": [
       "<Figure size 640x480 with 3 Axes>"
      ]
     },
     "metadata": {},
     "output_type": "display_data"
    }
   ],
   "source": [
    "# \n",
    "# Plot the data\n",
    "#\n",
    "num_plots = len( DEEP1B_DATASETS.keys() )\n",
    "\n",
    "fig, axs = plt.subplots(num_plots, sharex=True)\n",
    "\n",
    "for d, dset in enumerate(DEEP1B_DATASETS.keys()):\n",
    "    for q, num_queries in enumerate(DEEP1B_DATASETS[dset][\"queries\"]):\n",
    "        recalls = df_plot.loc[ \\\n",
    "                (df_plot['dset_name']==dset) & \\\n",
    "                (df_plot['num_queries']==num_queries)\\\n",
    "                ][\"recall\"]\n",
    "        throughputs = df_plot.loc[ \\\n",
    "                (df_plot['dset_name']==dset) & \\\n",
    "                (df_plot['num_queries']==num_queries)\\\n",
    "                ][\"throughput\"]\n",
    "        axs[d].plot( recalls, throughputs, label=\"num queries=%d\" % num_queries )\n",
    "        axs[d].set_title( DEEP1B_DATASETS[dset][\"plottitle\"] )\n",
    "        axs[d].set_ylabel(\"queries/sec\")\n",
    "        if d==len(DEEP1B_DATASETS[dset].keys())-1:\n",
    "            axs[d].set_xlabel(\"recall\")\n",
    "        axs[d].legend()\n",
    "        \n",
    "plt.tight_layout()\n",
    "plt.savefig(\"results/gemini_fvs_deep1B.png\")"
   ]
  },
  {
   "cell_type": "code",
   "execution_count": null,
   "id": "3b5d164f",
   "metadata": {},
   "outputs": [],
   "source": []
  }
 ],
 "metadata": {
  "kernelspec": {
   "display_name": "weav",
   "language": "python",
   "name": "python3"
  },
  "language_info": {
   "codemirror_mode": {
    "name": "ipython",
    "version": 3
   },
   "file_extension": ".py",
   "mimetype": "text/x-python",
   "name": "python",
   "nbconvert_exporter": "python",
   "pygments_lexer": "ipython3",
   "version": "3.8.16"
  },
  "vscode": {
   "interpreter": {
    "hash": "77c1319360a7932bac4f51ad7e6614c9b0955f4a6b9bc85b00121586e5ae8e54"
   }
  }
 },
 "nbformat": 4,
 "nbformat_minor": 5
}
