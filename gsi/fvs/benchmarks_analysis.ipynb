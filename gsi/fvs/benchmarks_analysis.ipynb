{
 "cells": [
  {
   "cell_type": "markdown",
   "id": "bdfd7724-a217-401d-ac26-2e44666faf63",
   "metadata": {},
   "source": [
    "# This notebook analyzes FVS benchmark results and produces various graphics"
   ]
  },
  {
   "cell_type": "code",
   "execution_count": 1,
   "id": "8192e62b-7853-4ae6-861e-2812d5ed39d9",
   "metadata": {
    "tags": []
   },
   "outputs": [],
   "source": [
    "#\n",
    "# Configure these settings to reflect your local setup\n",
    "#\n",
    "\n",
    "DATASET=\"deep1M\"\n",
    "\n",
    "QUERIES_1000=\"results/benchmarks-%s-q1000.csv\" % DATASET\n",
    "\n",
    "QUERIES_10=\"results/benchmarks-%s-q10.csv\" % DATASET\n",
    "\n",
    "NUM_APUS=1\n",
    "\n",
    "MAIN_MEMORY_SIZE = \"700G\"\n",
    "\n",
    "PLOT_TITLE=\"Gemini FVS Benchmarks\"\n",
    "\n",
    "PLOT_SUBTITLE=\"%s (1M of deep1B), %d APU(s), %s of Host Main Memory\" % \\\n",
    "    ( DATASET, NUM_APUS, MAIN_MEMORY_SIZE )"
   ]
  },
  {
   "cell_type": "code",
   "execution_count": 2,
   "id": "27e55e91-4fc2-4d17-a591-6f335f711976",
   "metadata": {
    "tags": []
   },
   "outputs": [],
   "source": [
    "#\n",
    "# Imports\n",
    "# \n",
    "import pandas as pd\n",
    "import numpy as np\n",
    "import matplotlib.pyplot as plt"
   ]
  },
  {
   "cell_type": "code",
   "execution_count": 3,
   "id": "46d20774-8847-49cb-b683-0314c1f31efc",
   "metadata": {
    "tags": []
   },
   "outputs": [
    {
     "name": "stdout",
     "output_type": "stream",
     "text": [
      "(15, 12)\n",
      "(15, 12)\n"
     ]
    }
   ],
   "source": [
    "#\n",
    "# Load all the CSV files into dataframes\n",
    "#\n",
    "\n",
    "df_q1000 = pd.read_csv( QUERIES_1000 )\n",
    "print(df_q1000.shape)\n",
    "\n",
    "df_q10 = pd.read_csv( QUERIES_10 )\n",
    "print(df_q10.shape)\n"
   ]
  },
  {
   "cell_type": "code",
   "execution_count": 4,
   "id": "82fd1735-25a4-4b7d-95a3-efed4ac3cd0b",
   "metadata": {
    "tags": []
   },
   "outputs": [
    {
     "name": "stdout",
     "output_type": "stream",
     "text": [
      "(30, 13)\n",
      "Index(['allocationid', 'datasetid', 'dataset_path', 'queries_path', 'bits',\n",
      "       'ts_start', 'ts_train_start', 'ts_train_end', 'ts_query_start',\n",
      "       'ts_query_end', 'response', 'recall', 'num_queries'],\n",
      "      dtype='object')\n"
     ]
    }
   ],
   "source": [
    "#\n",
    "# Combine the dataframes into one\n",
    "#\n",
    "\n",
    "# augment with a 'num_queries' column\n",
    "df_q1000['num_queries']=1000\n",
    "\n",
    "# augment with a 'num_queries' column\n",
    "df_q10['num_queries']=10\n",
    "\n",
    "# combine\n",
    "df_all = pd.concat([ df_q1000, df_q10 ] )\n",
    "print(df_all.shape)\n",
    "print(df_all.columns)"
   ]
  },
  {
   "cell_type": "code",
   "execution_count": 5,
   "id": "7ebee922-8554-4b5a-a25a-56fbb6b6d3fb",
   "metadata": {
    "tags": []
   },
   "outputs": [
    {
     "name": "stdout",
     "output_type": "stream",
     "text": [
      "    num_queries  bits  response  recall   throughput\n",
      "0          1000   768  2.915360  0.9997   343.010825\n",
      "1          1000   768  2.940215  0.9997   340.111132\n",
      "2          1000   768  2.875883  0.9997   347.719296\n",
      "3          1000   512  0.887977  0.9997  1126.155282\n",
      "4          1000   512  0.895868  0.9997  1116.235349\n",
      "5          1000   512  0.886778  0.9997  1127.677799\n",
      "6          1000   256  0.611309  0.9994  1635.832701\n",
      "7          1000   256  0.654820  0.9994  1527.136461\n",
      "8          1000   256  0.603681  0.9994  1656.502878\n",
      "9          1000   128  0.641501  0.9899  1558.842928\n",
      "10         1000   128  0.596934  0.9899  1675.227815\n",
      "11         1000   128  0.591362  0.9899  1691.011634\n",
      "12         1000    64  0.450553  0.9455  2219.492523\n",
      "13         1000    64  0.491143  0.9455  2036.067092\n",
      "14         1000    64  0.492434  0.9455  2030.729214\n",
      "0            10   768  0.020478  1.0000   488.334710\n",
      "1            10   768  0.017423  1.0000   573.953474\n",
      "2            10   768  0.018164  1.0000   550.533013\n",
      "3            10   512  0.021775  1.0000   459.249379\n",
      "4            10   512  0.020864  1.0000   479.303071\n",
      "5            10   512  0.020356  1.0000   491.248651\n",
      "6            10   256  0.009880  1.0000  1012.132634\n",
      "7            10   256  0.010556  1.0000   947.327907\n",
      "8            10   256  0.011289  1.0000   885.820644\n",
      "9            10   128  0.010454  0.9800   956.616578\n",
      "10           10   128  0.010239  0.9800   976.634983\n",
      "11           10   128  0.011786  0.9800   848.473780\n",
      "12           10    64  0.007231  0.9700  1383.016827\n",
      "13           10    64  0.007764  0.9700  1288.075512\n",
      "14           10    64  0.007544  0.9700  1325.524754\n"
     ]
    }
   ],
   "source": [
    "#\n",
    "# Create throughput column\n",
    "#\n",
    "\n",
    "df_all['throughput'] = df_all.apply( \\\n",
    "            lambda row: row['num_queries']/row['response'], axis=1 )\n",
    "    \n",
    "print(df_all[[\"num_queries\",\"bits\",\"response\",\"recall\", \"throughput\"]])"
   ]
  },
  {
   "cell_type": "code",
   "execution_count": 6,
   "id": "1dd09d57-8855-464c-8061-7f1d5bbc794c",
   "metadata": {
    "tags": []
   },
   "outputs": [
    {
     "name": "stdout",
     "output_type": "stream",
     "text": [
      "   num_queries  bits  recall   throughput\n",
      "0           10    64  0.9700  1332.205698\n",
      "1           10   128  0.9800   927.241780\n",
      "2           10   256  1.0000   948.427062\n",
      "3           10   512  1.0000   476.600367\n",
      "4           10   768  1.0000   537.607066\n",
      "5         1000    64  0.9455  2095.429609\n",
      "6         1000   128  0.9899  1641.694126\n",
      "7         1000   256  0.9994  1606.490680\n",
      "8         1000   512  0.9997  1123.356144\n",
      "9         1000   768  0.9997   343.613751\n"
     ]
    }
   ],
   "source": [
    "# \n",
    "# Grouping rows by (num_queries,bits) and then average 'recall' and 'throughput'\n",
    "# \n",
    "\n",
    "df_plot = \\\n",
    "    df_all[[\"num_queries\",\"bits\",\"recall\",\"throughput\"]].\\\n",
    "        groupby(['num_queries', 'bits'], as_index=False).mean()\n",
    "print(df_plot)"
   ]
  },
  {
   "cell_type": "code",
   "execution_count": 7,
   "id": "b86860de-c2fb-4547-9078-3a6a501426c1",
   "metadata": {
    "tags": []
   },
   "outputs": [],
   "source": [
    "#\n",
    "# Extract arrays for plotting\n",
    "#\n",
    "\n",
    "q1000_recall = list(df_plot.loc[ df_plot['num_queries']==1000 ][\"recall\"])\n",
    "q1000_throughput = list(df_plot.loc[ df_plot['num_queries']==1000 ][\"throughput\"])\n",
    "\n",
    "q10_recall = list(df_plot.loc[ df_plot['num_queries']==10 ][\"recall\"])\n",
    "q10_throughput = list(df_plot.loc[ df_plot['num_queries']==10 ][\"throughput\"])\n"
   ]
  },
  {
   "cell_type": "code",
   "execution_count": 8,
   "id": "0100da04-0b93-4b9b-8021-51be5fb509ed",
   "metadata": {
    "tags": []
   },
   "outputs": [
    {
     "data": {
      "image/png": "[encoded data removed]",
      "text/plain": [
       "<Figure size 432x288 with 1 Axes>"
      ]
     },
     "metadata": {
      "needs_background": "light"
     },
     "output_type": "display_data"
    }
   ],
   "source": [
    "#\n",
    "# Plot the data\n",
    "#\n",
    "\n",
    "plt.plot(q1000_recall, q1000_throughput, label = \"batch size = 1000 queries\")\n",
    "plt.plot(q10_recall, q10_throughput, label = \"batch size = 10 queries\")\n",
    "plt.legend()\n",
    "plt.xlabel(\"recall@10\")\n",
    "plt.ylabel(\"throughput (batch q/s)\")\n",
    "plt.yscale('log')\n",
    "#plt.suptitle(PLOT_TITLE, fontsize=18)\n",
    "#plt.title(PLOT_SUBTITLE)\n",
    "plt.gcf().subplots_adjust(left=0.15)\n",
    "plt.savefig(\"results/gemini_fvs.png\")\n",
    "plt.show()\n"
   ]
  }
 ],
 "metadata": {
  "kernelspec": {
   "display_name": "Python 3 (ipykernel)",
   "language": "python",
   "name": "python3"
  },
  "language_info": {
   "codemirror_mode": {
    "name": "ipython",
    "version": 3
   },
   "file_extension": ".py",
   "mimetype": "text/x-python",
   "name": "python",
   "nbconvert_exporter": "python",
   "pygments_lexer": "ipython3",
   "version": "3.9.12"
  }
 },
 "nbformat": 4,
 "nbformat_minor": 5
}
